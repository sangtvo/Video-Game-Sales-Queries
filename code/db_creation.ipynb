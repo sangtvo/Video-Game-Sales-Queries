{
 "metadata": {
  "language_info": {
   "codemirror_mode": {
    "name": "ipython",
    "version": 3
   },
   "file_extension": ".py",
   "mimetype": "text/x-python",
   "name": "python",
   "nbconvert_exporter": "python",
   "pygments_lexer": "ipython3",
   "version": "3.9.1-final"
  },
  "orig_nbformat": 2,
  "kernelspec": {
   "name": "python3",
   "display_name": "Python 3.9.1 64-bit",
   "metadata": {
    "interpreter": {
     "hash": "e106d2cf1c648e81a54c6777ff41d798abe773aa95d212a56059d95366da79e3"
    }
   }
  }
 },
 "nbformat": 4,
 "nbformat_minor": 2,
 "cells": [
  {
   "cell_type": "code",
   "execution_count": 3,
   "metadata": {},
   "outputs": [
    {
     "output_type": "execute_result",
     "data": {
      "text/plain": [
       "<sqlite3.Connection at 0x1ef0bc31210>"
      ]
     },
     "metadata": {},
     "execution_count": 3
    }
   ],
   "source": [
    "import sqlite3\n",
    "import pandas as pd\n",
    "sqlite3.connect('vg_sales.db')"
   ]
  },
  {
   "cell_type": "code",
   "execution_count": 2,
   "metadata": {},
   "outputs": [],
   "source": [
    "conn = sqlite3.connect('vg_sales.db')  # You can create a new database by changing the name within the quotes\n",
    "c = conn.cursor() # The database will be saved in the location where your 'py' file is saved\n",
    "\n",
    "# Create table - TITLES\n",
    "c.execute('''CREATE TABLE TITLES\n",
    "             ([unique_id] TEXT PRIMARY KEY, [Name] text, [Platform] text, [Year_of_Release] integer, [Genre] text, [Publisher] text, [Developer] text, [Rating] text)''')\n",
    "          \n",
    "# Create table - SALES\n",
    "c.execute('''CREATE TABLE SALES\n",
    "             ([sales_id] text PRIMARY KEY, [unique_id] text, [NA_Sales] integer, [EU_Sales] integer, [JP_Sales] integer, [Other_Sales] integer, [Global_Sales] integer)''')\n",
    "        \n",
    "# Create table - SCORES\n",
    "c.execute('''CREATE TABLE SCORES\n",
    "             ([scores_id] text, [unique_id] text, [Critic_Score] integer, [Critic_Count\n",
    "] integer, [User_Score] float, [User_Count] integer)''')\n",
    "                 \n",
    "conn.commit()\n",
    "\n",
    "# Note that the syntax to create new tables should only be used once in the code (unless you dropped the table/s at the end of the code). \n",
    "# The [generated_id] column is used to set an auto-increment ID for each record\n",
    "# When creating a new table, you can add both the field names as well as the field formats (e.g., Text)"
   ]
  },
  {
   "cell_type": "code",
   "execution_count": 4,
   "metadata": {},
   "outputs": [],
   "source": [
    "read_titles = pd.read_csv ('vg_titles.csv')\n",
    "read_titles.to_sql('TITLES', conn, if_exists='append', index = False) # Insert the values from the csv file into the table 'CLIENTS' \n",
    "\n",
    "read_sales = pd.read_csv ('vg_salesID.csv')\n",
    "read_sales.to_sql('SALES', conn, if_exists='replace', index = False) # Replace the values from the csv file into the table 'COUNTRY'\n",
    "\n",
    "read_scores = pd.read_csv ('vg_scoresID.csv')\n",
    "read_scores.to_sql('SCORES', conn, if_exists='replace', index = False) # Replace the values from the csv file into the table 'COUNTRY'"
   ]
  },
  {
   "cell_type": "code",
   "execution_count": null,
   "metadata": {},
   "outputs": [],
   "source": []
  }
 ]
}