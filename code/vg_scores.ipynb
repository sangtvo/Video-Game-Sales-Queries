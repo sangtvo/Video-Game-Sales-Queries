{
 "metadata": {
  "language_info": {
   "codemirror_mode": {
    "name": "ipython",
    "version": 3
   },
   "file_extension": ".py",
   "mimetype": "text/x-python",
   "name": "python",
   "nbconvert_exporter": "python",
   "pygments_lexer": "ipython3",
   "version": "3.9.1-final"
  },
  "orig_nbformat": 2,
  "kernelspec": {
   "name": "python3",
   "display_name": "Python 3.9.1 64-bit",
   "metadata": {
    "interpreter": {
     "hash": "e106d2cf1c648e81a54c6777ff41d798abe773aa95d212a56059d95366da79e3"
    }
   }
  }
 },
 "nbformat": 4,
 "nbformat_minor": 2,
 "cells": [
  {
   "cell_type": "code",
   "execution_count": 1,
   "metadata": {},
   "outputs": [],
   "source": [
    "import pandas as pd\n",
    "import uuid"
   ]
  },
  {
   "cell_type": "code",
   "execution_count": 2,
   "metadata": {},
   "outputs": [],
   "source": [
    "df = pd.read_csv('vg_scores.csv')"
   ]
  },
  {
   "cell_type": "code",
   "execution_count": 3,
   "metadata": {},
   "outputs": [
    {
     "output_type": "execute_result",
     "data": {
      "text/plain": [
       "                          unique_ID  Critic_Score  Critic_Count User_Score  \\\n",
       "0  eb5917f25ffb486abb61440f24f1bed8          76.0          51.0          8   \n",
       "1  8d55ca48a3464c579b04260f8c5b0660           NaN           NaN        NaN   \n",
       "2  4dce4fe9696a497699ab30f71939a30c          82.0          73.0        8.3   \n",
       "3  adc4a433edb34b9e8ec6dcbbb53fd8c0          80.0          73.0          8   \n",
       "4  62f6761462d146acbb19becb43113b30           NaN           NaN        NaN   \n",
       "\n",
       "   User_Count  \n",
       "0       322.0  \n",
       "1         NaN  \n",
       "2       709.0  \n",
       "3       192.0  \n",
       "4         NaN  "
      ],
      "text/html": "<div>\n<style scoped>\n    .dataframe tbody tr th:only-of-type {\n        vertical-align: middle;\n    }\n\n    .dataframe tbody tr th {\n        vertical-align: top;\n    }\n\n    .dataframe thead th {\n        text-align: right;\n    }\n</style>\n<table border=\"1\" class=\"dataframe\">\n  <thead>\n    <tr style=\"text-align: right;\">\n      <th></th>\n      <th>unique_ID</th>\n      <th>Critic_Score</th>\n      <th>Critic_Count</th>\n      <th>User_Score</th>\n      <th>User_Count</th>\n    </tr>\n  </thead>\n  <tbody>\n    <tr>\n      <th>0</th>\n      <td>eb5917f25ffb486abb61440f24f1bed8</td>\n      <td>76.0</td>\n      <td>51.0</td>\n      <td>8</td>\n      <td>322.0</td>\n    </tr>\n    <tr>\n      <th>1</th>\n      <td>8d55ca48a3464c579b04260f8c5b0660</td>\n      <td>NaN</td>\n      <td>NaN</td>\n      <td>NaN</td>\n      <td>NaN</td>\n    </tr>\n    <tr>\n      <th>2</th>\n      <td>4dce4fe9696a497699ab30f71939a30c</td>\n      <td>82.0</td>\n      <td>73.0</td>\n      <td>8.3</td>\n      <td>709.0</td>\n    </tr>\n    <tr>\n      <th>3</th>\n      <td>adc4a433edb34b9e8ec6dcbbb53fd8c0</td>\n      <td>80.0</td>\n      <td>73.0</td>\n      <td>8</td>\n      <td>192.0</td>\n    </tr>\n    <tr>\n      <th>4</th>\n      <td>62f6761462d146acbb19becb43113b30</td>\n      <td>NaN</td>\n      <td>NaN</td>\n      <td>NaN</td>\n      <td>NaN</td>\n    </tr>\n  </tbody>\n</table>\n</div>"
     },
     "metadata": {},
     "execution_count": 3
    }
   ],
   "source": [
    "df.head()"
   ]
  },
  {
   "cell_type": "code",
   "execution_count": 6,
   "metadata": {},
   "outputs": [],
   "source": [
    "df['scores_id'] = [uuid.uuid1().hex for i in range(len(df.index))]"
   ]
  },
  {
   "cell_type": "code",
   "execution_count": 7,
   "metadata": {},
   "outputs": [
    {
     "output_type": "execute_result",
     "data": {
      "text/plain": [
       "                          unique_ID  Critic_Score  Critic_Count User_Score  \\\n",
       "0  eb5917f25ffb486abb61440f24f1bed8          76.0          51.0          8   \n",
       "1  8d55ca48a3464c579b04260f8c5b0660           NaN           NaN        NaN   \n",
       "2  4dce4fe9696a497699ab30f71939a30c          82.0          73.0        8.3   \n",
       "3  adc4a433edb34b9e8ec6dcbbb53fd8c0          80.0          73.0          8   \n",
       "4  62f6761462d146acbb19becb43113b30           NaN           NaN        NaN   \n",
       "\n",
       "   User_Count                         scores_id  \n",
       "0       322.0  9053d4186cfd11eb8ae100e04c6818d6  \n",
       "1         NaN  9053d4196cfd11ebb0fc00e04c6818d6  \n",
       "2       709.0  9053d41a6cfd11ebb63900e04c6818d6  \n",
       "3       192.0  9053d41b6cfd11eb87a500e04c6818d6  \n",
       "4         NaN  9053d41c6cfd11ebb08200e04c6818d6  "
      ],
      "text/html": "<div>\n<style scoped>\n    .dataframe tbody tr th:only-of-type {\n        vertical-align: middle;\n    }\n\n    .dataframe tbody tr th {\n        vertical-align: top;\n    }\n\n    .dataframe thead th {\n        text-align: right;\n    }\n</style>\n<table border=\"1\" class=\"dataframe\">\n  <thead>\n    <tr style=\"text-align: right;\">\n      <th></th>\n      <th>unique_ID</th>\n      <th>Critic_Score</th>\n      <th>Critic_Count</th>\n      <th>User_Score</th>\n      <th>User_Count</th>\n      <th>scores_id</th>\n    </tr>\n  </thead>\n  <tbody>\n    <tr>\n      <th>0</th>\n      <td>eb5917f25ffb486abb61440f24f1bed8</td>\n      <td>76.0</td>\n      <td>51.0</td>\n      <td>8</td>\n      <td>322.0</td>\n      <td>9053d4186cfd11eb8ae100e04c6818d6</td>\n    </tr>\n    <tr>\n      <th>1</th>\n      <td>8d55ca48a3464c579b04260f8c5b0660</td>\n      <td>NaN</td>\n      <td>NaN</td>\n      <td>NaN</td>\n      <td>NaN</td>\n      <td>9053d4196cfd11ebb0fc00e04c6818d6</td>\n    </tr>\n    <tr>\n      <th>2</th>\n      <td>4dce4fe9696a497699ab30f71939a30c</td>\n      <td>82.0</td>\n      <td>73.0</td>\n      <td>8.3</td>\n      <td>709.0</td>\n      <td>9053d41a6cfd11ebb63900e04c6818d6</td>\n    </tr>\n    <tr>\n      <th>3</th>\n      <td>adc4a433edb34b9e8ec6dcbbb53fd8c0</td>\n      <td>80.0</td>\n      <td>73.0</td>\n      <td>8</td>\n      <td>192.0</td>\n      <td>9053d41b6cfd11eb87a500e04c6818d6</td>\n    </tr>\n    <tr>\n      <th>4</th>\n      <td>62f6761462d146acbb19becb43113b30</td>\n      <td>NaN</td>\n      <td>NaN</td>\n      <td>NaN</td>\n      <td>NaN</td>\n      <td>9053d41c6cfd11ebb08200e04c6818d6</td>\n    </tr>\n  </tbody>\n</table>\n</div>"
     },
     "metadata": {},
     "execution_count": 7
    }
   ],
   "source": [
    "df.head()"
   ]
  },
  {
   "cell_type": "code",
   "execution_count": 8,
   "metadata": {},
   "outputs": [],
   "source": [
    "df.to_csv('vg_scoresID.csv', index=False)"
   ]
  },
  {
   "cell_type": "code",
   "execution_count": null,
   "metadata": {},
   "outputs": [],
   "source": []
  }
 ]
}