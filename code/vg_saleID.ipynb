{
 "metadata": {
  "language_info": {
   "codemirror_mode": {
    "name": "ipython",
    "version": 3
   },
   "file_extension": ".py",
   "mimetype": "text/x-python",
   "name": "python",
   "nbconvert_exporter": "python",
   "pygments_lexer": "ipython3",
   "version": "3.9.1-final"
  },
  "orig_nbformat": 2,
  "kernelspec": {
   "name": "python3",
   "display_name": "Python 3.9.1 64-bit",
   "metadata": {
    "interpreter": {
     "hash": "e106d2cf1c648e81a54c6777ff41d798abe773aa95d212a56059d95366da79e3"
    }
   }
  }
 },
 "nbformat": 4,
 "nbformat_minor": 2,
 "cells": [
  {
   "cell_type": "code",
   "execution_count": 36,
   "metadata": {},
   "outputs": [],
   "source": [
    "import pandas as pd\n",
    "import uuid"
   ]
  },
  {
   "cell_type": "code",
   "execution_count": 37,
   "metadata": {},
   "outputs": [],
   "source": [
    "df = pd.read_csv(\"vg_sales.csv\")"
   ]
  },
  {
   "cell_type": "code",
   "execution_count": 38,
   "metadata": {},
   "outputs": [
    {
     "output_type": "execute_result",
     "data": {
      "text/plain": [
       "                          unique_ID  NA_Sales  EU_Sales  JP_Sales  \\\n",
       "0  eb5917f25ffb486abb61440f24f1bed8     41.36     28.96      3.77   \n",
       "1  8d55ca48a3464c579b04260f8c5b0660     29.08      3.58      6.81   \n",
       "2  4dce4fe9696a497699ab30f71939a30c     15.68     12.76      3.79   \n",
       "3  adc4a433edb34b9e8ec6dcbbb53fd8c0     15.61     10.93      3.28   \n",
       "4  62f6761462d146acbb19becb43113b30     11.27      8.89     10.22   \n",
       "\n",
       "   Other_Sales  Global_Sales  \n",
       "0         8.45         82.53  \n",
       "1         0.77         40.24  \n",
       "2         3.29         35.52  \n",
       "3         2.95         32.77  \n",
       "4         1.00         31.37  "
      ],
      "text/html": "<div>\n<style scoped>\n    .dataframe tbody tr th:only-of-type {\n        vertical-align: middle;\n    }\n\n    .dataframe tbody tr th {\n        vertical-align: top;\n    }\n\n    .dataframe thead th {\n        text-align: right;\n    }\n</style>\n<table border=\"1\" class=\"dataframe\">\n  <thead>\n    <tr style=\"text-align: right;\">\n      <th></th>\n      <th>unique_ID</th>\n      <th>NA_Sales</th>\n      <th>EU_Sales</th>\n      <th>JP_Sales</th>\n      <th>Other_Sales</th>\n      <th>Global_Sales</th>\n    </tr>\n  </thead>\n  <tbody>\n    <tr>\n      <th>0</th>\n      <td>eb5917f25ffb486abb61440f24f1bed8</td>\n      <td>41.36</td>\n      <td>28.96</td>\n      <td>3.77</td>\n      <td>8.45</td>\n      <td>82.53</td>\n    </tr>\n    <tr>\n      <th>1</th>\n      <td>8d55ca48a3464c579b04260f8c5b0660</td>\n      <td>29.08</td>\n      <td>3.58</td>\n      <td>6.81</td>\n      <td>0.77</td>\n      <td>40.24</td>\n    </tr>\n    <tr>\n      <th>2</th>\n      <td>4dce4fe9696a497699ab30f71939a30c</td>\n      <td>15.68</td>\n      <td>12.76</td>\n      <td>3.79</td>\n      <td>3.29</td>\n      <td>35.52</td>\n    </tr>\n    <tr>\n      <th>3</th>\n      <td>adc4a433edb34b9e8ec6dcbbb53fd8c0</td>\n      <td>15.61</td>\n      <td>10.93</td>\n      <td>3.28</td>\n      <td>2.95</td>\n      <td>32.77</td>\n    </tr>\n    <tr>\n      <th>4</th>\n      <td>62f6761462d146acbb19becb43113b30</td>\n      <td>11.27</td>\n      <td>8.89</td>\n      <td>10.22</td>\n      <td>1.00</td>\n      <td>31.37</td>\n    </tr>\n  </tbody>\n</table>\n</div>"
     },
     "metadata": {},
     "execution_count": 38
    }
   ],
   "source": [
    "df.head()"
   ]
  },
  {
   "cell_type": "code",
   "execution_count": 39,
   "metadata": {},
   "outputs": [],
   "source": [
    "df['sales_id'] = [uuid.uuid1().hex for i in range(len(df.index))]"
   ]
  },
  {
   "cell_type": "code",
   "execution_count": 40,
   "metadata": {},
   "outputs": [
    {
     "output_type": "execute_result",
     "data": {
      "text/plain": [
       "                          unique_ID  NA_Sales  EU_Sales  JP_Sales  \\\n",
       "0  eb5917f25ffb486abb61440f24f1bed8     41.36     28.96      3.77   \n",
       "1  8d55ca48a3464c579b04260f8c5b0660     29.08      3.58      6.81   \n",
       "2  4dce4fe9696a497699ab30f71939a30c     15.68     12.76      3.79   \n",
       "3  adc4a433edb34b9e8ec6dcbbb53fd8c0     15.61     10.93      3.28   \n",
       "4  62f6761462d146acbb19becb43113b30     11.27      8.89     10.22   \n",
       "\n",
       "   Other_Sales  Global_Sales                          sales_id  \n",
       "0         8.45         82.53  5d82cfa76cff11ebab5600e04c6818d6  \n",
       "1         0.77         40.24  5d82cfa86cff11eba21e00e04c6818d6  \n",
       "2         3.29         35.52  5d82cfa96cff11eb884b00e04c6818d6  \n",
       "3         2.95         32.77  5d82cfaa6cff11eb915400e04c6818d6  \n",
       "4         1.00         31.37  5d82cfab6cff11eb846900e04c6818d6  "
      ],
      "text/html": "<div>\n<style scoped>\n    .dataframe tbody tr th:only-of-type {\n        vertical-align: middle;\n    }\n\n    .dataframe tbody tr th {\n        vertical-align: top;\n    }\n\n    .dataframe thead th {\n        text-align: right;\n    }\n</style>\n<table border=\"1\" class=\"dataframe\">\n  <thead>\n    <tr style=\"text-align: right;\">\n      <th></th>\n      <th>unique_ID</th>\n      <th>NA_Sales</th>\n      <th>EU_Sales</th>\n      <th>JP_Sales</th>\n      <th>Other_Sales</th>\n      <th>Global_Sales</th>\n      <th>sales_id</th>\n    </tr>\n  </thead>\n  <tbody>\n    <tr>\n      <th>0</th>\n      <td>eb5917f25ffb486abb61440f24f1bed8</td>\n      <td>41.36</td>\n      <td>28.96</td>\n      <td>3.77</td>\n      <td>8.45</td>\n      <td>82.53</td>\n      <td>5d82cfa76cff11ebab5600e04c6818d6</td>\n    </tr>\n    <tr>\n      <th>1</th>\n      <td>8d55ca48a3464c579b04260f8c5b0660</td>\n      <td>29.08</td>\n      <td>3.58</td>\n      <td>6.81</td>\n      <td>0.77</td>\n      <td>40.24</td>\n      <td>5d82cfa86cff11eba21e00e04c6818d6</td>\n    </tr>\n    <tr>\n      <th>2</th>\n      <td>4dce4fe9696a497699ab30f71939a30c</td>\n      <td>15.68</td>\n      <td>12.76</td>\n      <td>3.79</td>\n      <td>3.29</td>\n      <td>35.52</td>\n      <td>5d82cfa96cff11eb884b00e04c6818d6</td>\n    </tr>\n    <tr>\n      <th>3</th>\n      <td>adc4a433edb34b9e8ec6dcbbb53fd8c0</td>\n      <td>15.61</td>\n      <td>10.93</td>\n      <td>3.28</td>\n      <td>2.95</td>\n      <td>32.77</td>\n      <td>5d82cfaa6cff11eb915400e04c6818d6</td>\n    </tr>\n    <tr>\n      <th>4</th>\n      <td>62f6761462d146acbb19becb43113b30</td>\n      <td>11.27</td>\n      <td>8.89</td>\n      <td>10.22</td>\n      <td>1.00</td>\n      <td>31.37</td>\n      <td>5d82cfab6cff11eb846900e04c6818d6</td>\n    </tr>\n  </tbody>\n</table>\n</div>"
     },
     "metadata": {},
     "execution_count": 40
    }
   ],
   "source": [
    "df.head()"
   ]
  },
  {
   "cell_type": "code",
   "execution_count": 41,
   "metadata": {},
   "outputs": [],
   "source": [
    "df.to_csv('vg_salesID.csv', index=False)"
   ]
  },
  {
   "cell_type": "code",
   "execution_count": null,
   "metadata": {},
   "outputs": [],
   "source": []
  }
 ]
}